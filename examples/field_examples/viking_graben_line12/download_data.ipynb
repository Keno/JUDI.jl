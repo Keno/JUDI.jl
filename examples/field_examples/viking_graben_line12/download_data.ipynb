{
 "cells": [
  {
   "attachments": {},
   "cell_type": "markdown",
   "metadata": {},
   "source": [
    "Donwload SEGY"
   ]
  },
  {
   "cell_type": "code",
   "execution_count": 1,
   "metadata": {},
   "outputs": [
    {
     "name": "stdout",
     "output_type": "stream",
     "text": [
      "--2023-04-07 17:19:15--  http://s3.amazonaws.com/open.source.geoscience/open_data/Mobil_Avo_Viking_Graben_Line_12/seismic.segy\n",
      "Resolving s3.amazonaws.com (s3.amazonaws.com)... 52.217.107.166, 3.5.19.152, 52.216.48.152, ...\n",
      "Connecting to s3.amazonaws.com (s3.amazonaws.com)|52.217.107.166|:80... connected.\n",
      "HTTP request sent, awaiting response... 200 OK\n",
      "Length: 749552400 (715M) [application/octet-stream]\n",
      "Saving to: ‘seismic.segy’\n",
      "\n",
      "seismic.segy        100%[===================>] 714,83M  9,63MB/s    in 95s     \n",
      "\n",
      "2023-04-07 17:20:50 (7,54 MB/s) - ‘seismic.segy’ saved [749552400/749552400]\n",
      "\n"
     ]
    }
   ],
   "source": [
    "!wget http://s3.amazonaws.com/open.source.geoscience/open_data/Mobil_Avo_Viking_Graben_Line_12/seismic.segy"
   ]
  },
  {
   "attachments": {},
   "cell_type": "markdown",
   "metadata": {},
   "source": [
    "Download Farfield source wavelet"
   ]
  },
  {
   "cell_type": "code",
   "execution_count": 2,
   "metadata": {},
   "outputs": [
    {
     "name": "stdout",
     "output_type": "stream",
     "text": [
      "--2023-04-07 17:20:56--  http://s3.amazonaws.com/open.source.geoscience/open_data/Mobil_Avo_Viking_Graben_Line_12/FarField.dat\n",
      "Resolving s3.amazonaws.com (s3.amazonaws.com)... 52.216.10.133, 52.217.132.144, 52.216.145.181, ...\n",
      "Connecting to s3.amazonaws.com (s3.amazonaws.com)|52.216.10.133|:80... connected.\n",
      "HTTP request sent, awaiting response... 200 OK\n",
      "Length: 8500 (8,3K) [application/octet-stream]\n",
      "Saving to: ‘FarField.dat’\n",
      "\n",
      "FarField.dat        100%[===================>]   8,30K  --.-KB/s    in 0s      \n",
      "\n",
      "2023-04-07 17:20:56 (18,0 MB/s) - ‘FarField.dat’ saved [8500/8500]\n",
      "\n"
     ]
    }
   ],
   "source": [
    "!wget http://s3.amazonaws.com/open.source.geoscience/open_data/Mobil_Avo_Viking_Graben_Line_12/FarField.dat"
   ]
  },
  {
   "attachments": {},
   "cell_type": "markdown",
   "metadata": {},
   "source": [
    "Download and unpack well logs"
   ]
  },
  {
   "cell_type": "code",
   "execution_count": 3,
   "metadata": {},
   "outputs": [
    {
     "name": "stdout",
     "output_type": "stream",
     "text": [
      "--2023-04-07 17:21:02--  http://s3.amazonaws.com/open.source.geoscience/open_data/Mobil_Avo_Viking_Graben_Line_12/mobil_wellogs.tar.gz\n",
      "Resolving s3.amazonaws.com (s3.amazonaws.com)... 52.217.115.16, 52.217.228.144, 52.217.70.246, ...\n",
      "Connecting to s3.amazonaws.com (s3.amazonaws.com)|52.217.115.16|:80... connected.\n",
      "HTTP request sent, awaiting response... 200 OK\n",
      "Length: 1129175 (1,1M) [application/x-gzip]\n",
      "Saving to: ‘mobil_wellogs.tar.gz’\n",
      "\n",
      "mobil_wellogs.tar.g 100%[===================>]   1,08M  1,33MB/s    in 0,8s    \n",
      "\n",
      "2023-04-07 17:21:04 (1,33 MB/s) - ‘mobil_wellogs.tar.gz’ saved [1129175/1129175]\n",
      "\n",
      "well4.blk\n",
      "well4.elan\n",
      "well4.log\n",
      "well4.Q\n",
      "well5.blk\n",
      "well5.elan\n",
      "well5.log\n",
      "well5.Q\n",
      "well7.Q\n"
     ]
    }
   ],
   "source": [
    "!wget http://s3.amazonaws.com/open.source.geoscience/open_data/Mobil_Avo_Viking_Graben_Line_12/mobil_wellogs.tar.gz\n",
    "!tar -xvzf mobil_wellogs.tar.gz"
   ]
  }
 ],
 "metadata": {
  "kernelspec": {
   "display_name": "venv",
   "language": "python",
   "name": "python3"
  },
  "language_info": {
   "codemirror_mode": {
    "name": "ipython",
    "version": 3
   },
   "file_extension": ".py",
   "mimetype": "text/x-python",
   "name": "python",
   "nbconvert_exporter": "python",
   "pygments_lexer": "ipython3",
   "version": "3.9.1"
  },
  "orig_nbformat": 4,
  "vscode": {
   "interpreter": {
    "hash": "0a1788e0e5c6efbebf11ed51f31697603628a5a9fa69865db71407f438af2faf"
   }
  }
 },
 "nbformat": 4,
 "nbformat_minor": 2
}
